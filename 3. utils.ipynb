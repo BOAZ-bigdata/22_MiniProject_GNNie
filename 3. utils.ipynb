{
 "cells": [
  {
   "cell_type": "code",
   "execution_count": 1,
   "metadata": {},
   "outputs": [],
   "source": [
    "import torch\n",
    "import numpy as np\n",
    "from torch_geometric.data import Data"
   ]
  },
  {
   "cell_type": "code",
   "execution_count": 2,
   "metadata": {},
   "outputs": [],
   "source": [
    "def sampleNeg(batch, num_playlists, num_nodes):\n",
    "   negs = []\n",
    "   for _ in batch.edge_index[0,:]:\n",
    "      rand = torch.randint(num_playlists, num_nodes, (1,))\n",
    "      negs.append(rand.item())\n",
    "   edge_index_negs = torch.row_stack([\n",
    "      batch.edge_index[0,:], torch.LongTensor(negs)\n",
    "   ])\n",
    "   return Data(edge_index=edge_index_negs)\n"
   ]
  },
  {
   "cell_type": "code",
   "execution_count": 3,
   "metadata": {},
   "outputs": [],
   "source": [
    "def recall(all_ratings, k, num_playlists, ground_truth, unique_playlists, data_mp):\n",
    "   \"\"\"\n",
    "   Calculates recall@k during validation/testing for a single batch.\n",
    "\n",
    "   args:\n",
    "     all_ratings: array of shape [number of playlists in batch, number of songs in whole dataset]\n",
    "     k: the value of k to use for recall@k\n",
    "     num_playlists: the number of playlists in the dataset\n",
    "     ground_truth: array of shape [2, X] where each column is a pair of (playlist_idx, positive song idx). This is the\n",
    "        batch that we are calculating metrics on.\n",
    "     unique_playlists: 1D vector of length [number of playlists in batch], which specifies which playlist corresponds\n",
    "        to each row of all_ratings\n",
    "     data_mp: an array of shape [2, Y]. This is all of the known message-passing edges. We will use this to make sure we\n",
    "        don't recommend songs that are already known to be in the playlist.\n",
    "   returns:\n",
    "     Dictionary of playlist ID -> recall@k on that playlist\n",
    "   \"\"\"\n",
    "   # We don't want to recommend songs that are already known to be in the playlist. \n",
    "   # Set those to a low rating so they won't be recommended\n",
    "   known_edges = data_mp[:, data_mp[0,:] < num_playlists] # removing duplicate edges (since data_mp is undirected). also makes it so that for each column, playlist idx is in row 0 and song idx is in row 1\n",
    "   playlist_to_idx_in_batch = {playlist: i for i, playlist in enumerate(unique_playlists.tolist())}\n",
    "   exclude_playlists, exclude_songs = [], [] # already-known playlist/song links. Don't want to recommend these again\n",
    "   for i in range(known_edges.shape[1]): # looping over all known edges\n",
    "      pl, song = known_edges[:,i].tolist()\n",
    "      if pl in playlist_to_idx_in_batch: # don't need the edges in data_mp that are from playlists that are not in this batch\n",
    "         exclude_playlists.append(playlist_to_idx_in_batch[pl])\n",
    "         exclude_songs.append(song - num_playlists) # subtract num_playlists to get indexing into all_ratings correct\n",
    "   all_ratings[exclude_playlists, exclude_songs] = -10000 # setting to a very low score so they won't be recommended\n",
    "\n",
    "   # Get top k recommendations for each playlist\n",
    "   _, top_k = torch.topk(all_ratings, k=k, dim=1)\n",
    "   top_k += num_playlists # topk returned indices of songs in ratings, which doesn't include playlists. Need to shift up by num_playlists to get the actual song indices\n",
    "    \n",
    "   ret = {}\n",
    "   for i, playlist in enumerate(unique_playlists):\n",
    "      pos_songs = ground_truth[1, ground_truth[0, :] == playlist]\n",
    "      k_recs = top_k[i, :] # top k recommendations for playlist\n",
    "      recall = len(np.intersect1d(pos_songs, k_recs)) / len(pos_songs)\n",
    "      ret[playlist] = recall\n",
    "   return ret\n"
   ]
  }
 ],
 "metadata": {
  "kernelspec": {
   "display_name": "Python 3",
   "language": "python",
   "name": "python3"
  },
  "language_info": {
   "codemirror_mode": {
    "name": "ipython",
    "version": 3
   },
   "file_extension": ".py",
   "mimetype": "text/x-python",
   "name": "python",
   "nbconvert_exporter": "python",
   "pygments_lexer": "ipython3",
   "version": "3.12.1"
  }
 },
 "nbformat": 4,
 "nbformat_minor": 2
}
