{
 "cells": [
  {
   "cell_type": "code",
   "execution_count": 1,
   "metadata": {},
   "outputs": [],
   "source": [
    "from torch_geometric.nn import MessagePassing\n",
    "from torch_geometric.utils import degree"
   ]
  },
  {
   "cell_type": "code",
   "execution_count": 2,
   "metadata": {},
   "outputs": [],
   "source": [
    "class LightGCN(MessagePassing):\n",
    "  \"\"\"\n",
    "  a single LightGCN layer\n",
    "  \"\"\"\n",
    "  def __init__(self):\n",
    "    super(LightGCN, self).__init__(aggr='add')\n",
    "\n",
    "  def message(self, x_j, norm):\n",
    "    '''\n",
    "    args:\n",
    "      x_j: node embeddings of neighbors of shape [E, emb_dim]\n",
    "      norm: normalization calculated in forward()\n",
    "    returns:\n",
    "      message from neighboring nodes j to central node i\n",
    "    '''\n",
    "    return norm.view(-1, 1) * x_j\n",
    "\n",
    "  def forward(self, x, edge_index):\n",
    "    \"\"\"\n",
    "    args:\n",
    "      x: current node embeddings of shape [N, emb_dim]\n",
    "      edge_index: message passing edges of shape [2, E]\n",
    "    returns:\n",
    "      updated embeddings after this layer\n",
    "    \"\"\"\n",
    "    row, col = edge_index\n",
    "    deg = degree(col)\n",
    "    deg_inv_sqrt = deg.pow(-0.5)\n",
    "    norm = deg_inv_sqrt[row] * deg_inv_sqrt[col]\n",
    "    return self.propagate(edge_index, x=x, norm=norm)\n"
   ]
  }
 ],
 "metadata": {
  "kernelspec": {
   "display_name": "Python 3",
   "language": "python",
   "name": "python3"
  },
  "language_info": {
   "codemirror_mode": {
    "name": "ipython",
    "version": 3
   },
   "file_extension": ".py",
   "mimetype": "text/x-python",
   "name": "python",
   "nbconvert_exporter": "python",
   "pygments_lexer": "ipython3",
   "version": "3.12.1"
  }
 },
 "nbformat": 4,
 "nbformat_minor": 2
}
