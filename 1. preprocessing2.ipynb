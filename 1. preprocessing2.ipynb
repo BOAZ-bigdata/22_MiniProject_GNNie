{
 "cells": [
  {
   "cell_type": "code",
   "execution_count": 41,
   "metadata": {},
   "outputs": [
    {
     "name": "stdout",
     "output_type": "stream",
     "text": [
      "Requirement already satisfied: networkx in /Users/hayoon/anaconda3/lib/python3.11/site-packages (3.1)\n",
      "\n",
      "\u001b[1m[\u001b[0m\u001b[34;49mnotice\u001b[0m\u001b[1;39;49m]\u001b[0m\u001b[39;49m A new release of pip is available: \u001b[0m\u001b[31;49m23.3.2\u001b[0m\u001b[39;49m -> \u001b[0m\u001b[32;49m24.0\u001b[0m\n",
      "\u001b[1m[\u001b[0m\u001b[34;49mnotice\u001b[0m\u001b[1;39;49m]\u001b[0m\u001b[39;49m To update, run: \u001b[0m\u001b[32;49mpip install --upgrade pip\u001b[0m\n"
     ]
    }
   ],
   "source": [
    "!pip install networkx"
   ]
  },
  {
   "cell_type": "code",
   "execution_count": 1,
   "metadata": {},
   "outputs": [],
   "source": [
    "import os\n",
    "import json\n",
    "import networkx as nx\n",
    "import torch\n",
    "from torch_geometric.data import Data\n",
    "from tqdm import tqdm\n",
    "\n",
    "# Example values for N and K\n",
    "N = 100  # Number of files to use for the dataset\n",
    "K = 5    # Value for K-core decomposition"
   ]
  },
  {
   "cell_type": "code",
   "execution_count": 9,
   "metadata": {},
   "outputs": [
    {
     "name": "stderr",
     "output_type": "stream",
     "text": [
      "<>:5: SyntaxWarning: invalid escape sequence '\\p'\n",
      "<>:5: SyntaxWarning: invalid escape sequence '\\p'\n",
      "C:\\Users\\82106\\AppData\\Local\\Temp\\ipykernel_16244\\344466860.py:5: SyntaxWarning: invalid escape sequence '\\p'\n",
      "  dir = 'C:\\python\\projects\\gnn-recommender-main\\spotify_million_playlist_dataset'\n"
     ]
    }
   ],
   "source": [
    "\n",
    "def getFiles(N):\n",
    "    '''\n",
    "    Returns directory and files to use for dataset\n",
    "    '''\n",
    "    dir = 'C:\\python\\projects\\gnn-recommender-main\\spotify_million_playlist_dataset'\n",
    "    files = sorted(os.listdir(dir), key=lambda x: int(x.split(\".\")[2].split(\"-\")[0]))\n",
    "    return dir, files[:N]\n"
   ]
  },
  {
   "cell_type": "code",
   "execution_count": 10,
   "metadata": {},
   "outputs": [],
   "source": [
    "\n",
    "def makeGraph(dir, files):\n",
    "    '''\n",
    "    Returns a graph, number of original playlists, and hashmap of PIDs/URIs\n",
    "    '''\n",
    "    G = nx.Graph()\n",
    "    p_meta, uris = {}, {}\n",
    "    SID = 0\n",
    "\n",
    "    for file in files:\n",
    "        with open(os.path.join(dir, file), 'r') as f:\n",
    "            data = json.load(f)['playlists']\n",
    "            for playlist in data:\n",
    "                pid = playlist['pid']\n",
    "                G.add_node(pid, type='playlist')\n",
    "                p_meta[pid] = {'name': playlist['name']}\n",
    "                for song in playlist['tracks']:\n",
    "                    uri = song['track_uri']\n",
    "                    if uri not in uris:\n",
    "                        uris[uri] = {'SID': SID, 'track_name': song['track_name'],\n",
    "                                     'artist_name': song['artist_name'], 'artist_uri': song['artist_uri']}\n",
    "                        G.add_node(SID, type='song')\n",
    "                        SID += 1\n",
    "                    G.add_edge(pid, uris[uri]['SID'])\n",
    "\n",
    "    orig_playlists = sum(1 for _, data in G.nodes(data=True) if data['type'] == 'playlist')\n",
    "    return G, orig_playlists, SID - 1, p_meta, uris\n"
   ]
  },
  {
   "cell_type": "code",
   "execution_count": 11,
   "metadata": {},
   "outputs": [],
   "source": [
    "\n",
    "\n",
    "def getKCore(G, K):\n",
    "    '''\n",
    "    Returns K-core graph, number of playlists, songs, and edges\n",
    "    '''\n",
    "    # Remove self-loops from the graph G\n",
    "    G.remove_edges_from(nx.selfloop_edges(G))\n",
    "\n",
    "    # Compute the k-core of the graph\n",
    "    G_kcore = nx.k_core(G, k=K)\n",
    "    \n",
    "    # Count the number of playlists, songs, and edges in the k-core\n",
    "    num_playlists = sum(1 for _, data in G_kcore.nodes(data=True) if data['type'] == 'playlist')\n",
    "    num_songs = sum(1 for _, data in G_kcore.nodes(data=True) if data['type'] == 'song')\n",
    "    num_edges = G_kcore.number_of_edges()\n",
    "    \n",
    "    return G_kcore, num_playlists, num_songs, num_edges\n"
   ]
  },
  {
   "cell_type": "code",
   "execution_count": 12,
   "metadata": {},
   "outputs": [],
   "source": [
    "\n",
    "def reindexGraph(G, orig_playlists, num_playlists, num_songs, p_meta, uris):\n",
    "    # NetworkX handles node indexing internally, so this step might be simplified\n",
    "    # depending on the specific needs of reindexing in your application\n",
    "    # This step is highly specific to the original snap application and may not be directly applicable in NetworkX\n",
    "    pass\n"
   ]
  },
  {
   "cell_type": "code",
   "execution_count": 13,
   "metadata": {},
   "outputs": [],
   "source": [
    "\n",
    "def createPyObject(G):\n",
    "    # Convert to edge_index and storing in a PyG Data object\n",
    "    edge_list = [(u, v) for u, v in G.edges()]\n",
    "    edge_index = torch.tensor(edge_list, dtype=torch.long).t().contiguous()\n",
    "    return Data(edge_index=edge_index, num_nodes=G.number_of_nodes())\n"
   ]
  },
  {
   "cell_type": "code",
   "execution_count": 14,
   "metadata": {},
   "outputs": [],
   "source": [
    "\n",
    "def saveObject(data, p_meta, num_playlists, num_songs, num_edges, K, N):\n",
    "    # Save the data object and metadata as before\n",
    "    # Implementation remains the same as in your original code\n",
    "    pass\n"
   ]
  },
  {
   "cell_type": "code",
   "execution_count": 15,
   "metadata": {},
   "outputs": [],
   "source": [
    "\n",
    "# Main execution\n",
    "if __name__ == \"__main__\":\n",
    "    dir, files = getFiles(N)\n",
    "    G, orig_playlists, lastPID, p_meta, uris = makeGraph(dir, files)\n",
    "    G_kcore, num_playlists, num_songs, num_edges = getKCore(G, K)\n",
    "    # Reindexing might not be necessary or needs adaptation\n",
    "    data = createPyObject(G_kcore)\n",
    "    saveObject(data, p_meta, num_playlists, num_songs, num_edges, K, N)\n"
   ]
  },
  {
   "cell_type": "code",
   "execution_count": null,
   "metadata": {},
   "outputs": [],
   "source": []
  },
  {
   "cell_type": "code",
   "execution_count": null,
   "metadata": {},
   "outputs": [],
   "source": []
  }
 ],
 "metadata": {
  "kernelspec": {
   "display_name": "base",
   "language": "python",
   "name": "python3"
  },
  "language_info": {
   "codemirror_mode": {
    "name": "ipython",
    "version": 3
   },
   "file_extension": ".py",
   "mimetype": "text/x-python",
   "name": "python",
   "nbconvert_exporter": "python",
   "pygments_lexer": "ipython3",
   "version": "3.12.1"
  }
 },
 "nbformat": 4,
 "nbformat_minor": 2
}
