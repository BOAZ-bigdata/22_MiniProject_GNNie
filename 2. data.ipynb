{
 "cells": [
  {
   "cell_type": "code",
   "execution_count": 1,
   "metadata": {},
   "outputs": [],
   "source": [
    "import torch\n",
    "from torch_geometric.data import Data, Dataset"
   ]
  },
  {
   "cell_type": "code",
   "execution_count": 2,
   "metadata": {},
   "outputs": [],
   "source": [
    "class CustomData(Data):\n",
    "    \"\"\"\n",
    "    override __inc__ so DataLoader doesn't increment indices\n",
    "    \"\"\"\n",
    "    def __inc__(self, key, value, *args, **kwargs):\n",
    "        return 0"
   ]
  },
  {
   "cell_type": "code",
   "execution_count": 3,
   "metadata": {},
   "outputs": [],
   "source": [
    "class SpotData(Dataset):\n",
    "    \"\"\"\n",
    "    dataset with supervision/evaluation edges.\n",
    "    get(idx) return ALL outgoing edges of the graph of playlist \"idx\" since calculating metrics like recall@k needs all the playlist's positive edges\n",
    "    \"\"\"\n",
    "    def __init__(self, root, edge_index, transform=None, pre_transform=None):\n",
    "        super().__init__(root, transform, pre_transform)\n",
    "        self.edge_index = edge_index\n",
    "        # playlists will all be in row 0, b/c sorted by RandLinkSplit\n",
    "        self.unique_idxs = torch.unique(edge_index[0,:]).tolist() \n",
    "        self.num_nodes = len(self.unique_idxs)\n",
    "\n",
    "    def len(self):\n",
    "        return self.num_nodes\n",
    "\n",
    "    # returns all outgoing edges associated with playlist idx\n",
    "    def get(self, idx):\n",
    "        edge_index = self.edge_index[:, self.edge_index[0,:] == idx]\n",
    "        return CustomData(edge_index=edge_index)\n",
    "        "
   ]
  },
  {
   "cell_type": "code",
   "execution_count": null,
   "metadata": {},
   "outputs": [],
   "source": []
  }
 ],
 "metadata": {
  "kernelspec": {
   "display_name": "Python 3",
   "language": "python",
   "name": "python3"
  },
  "language_info": {
   "codemirror_mode": {
    "name": "ipython",
    "version": 3
   },
   "file_extension": ".py",
   "mimetype": "text/x-python",
   "name": "python",
   "nbconvert_exporter": "python",
   "pygments_lexer": "ipython3",
   "version": "3.12.1"
  }
 },
 "nbformat": 4,
 "nbformat_minor": 2
}
